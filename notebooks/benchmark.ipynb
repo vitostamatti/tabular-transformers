{
 "cells": [
  {
   "cell_type": "code",
   "execution_count": 9,
   "metadata": {},
   "outputs": [],
   "source": [
    "from sklearn.ensemble import GradientBoostingClassifier\n",
    "import tensorflow as tf\n",
    "from tensorflow import keras\n",
    "import numpy as np\n",
    "import sys\n",
    "import pandas as pd\n",
    "from sklearn.preprocessing import LabelEncoder\n",
    "from keras.utils import np_utils\n",
    "from sklearn.model_selection import train_test_split\n",
    "from sklearn.metrics import classification_report\n",
    "\n",
    "sys.path.append('../')\n",
    "\n",
    "from src.models import TabularTransformer"
   ]
  },
  {
   "cell_type": "code",
   "execution_count": 2,
   "metadata": {},
   "outputs": [],
   "source": [
    "# https://epistasislab.github.io/\n",
    "from pmlb import fetch_data\n",
    "\n",
    "data = fetch_data('adult')\n",
    "target_column = ['target']\n",
    "categorical_features = data.drop(columns=target_column).select_dtypes(include=np.int64).columns.to_list()\n",
    "numeric_features = data.select_dtypes(include=np.float64).columns.to_list()\n",
    "\n",
    "features = data[numeric_features+categorical_features].copy()\n",
    "target = data[target_column].copy()"
   ]
  },
  {
   "cell_type": "code",
   "execution_count": 5,
   "metadata": {},
   "outputs": [],
   "source": [
    "X_train, X_test, y_train, y_test = train_test_split(features, target, test_size=0.2)"
   ]
  },
  {
   "cell_type": "code",
   "execution_count": 7,
   "metadata": {},
   "outputs": [],
   "source": [
    "gbc = GradientBoostingClassifier()\n",
    "gbc.fit(X_train, np.ravel(y_train))\n",
    "y_pred_gbc = gbc.predict(X_test)"
   ]
  },
  {
   "cell_type": "code",
   "execution_count": 12,
   "metadata": {},
   "outputs": [
    {
     "name": "stdout",
     "output_type": "stream",
     "text": [
      "Epoch 1/10\n",
      "69/69 [==============================] - 73s 951ms/step - loss: 0.3913 - accuracy: 0.8164 - mean_recall: 0.6929 - mean_precision: 0.7576 - multi_class_confusion_matrix: 8791.2500 - val_loss: 0.3295 - val_accuracy: 0.8452 - val_mean_recall: 0.7636 - val_mean_precision: 0.7914 - val_multi_class_confusion_matrix: 977.0000\n",
      "Epoch 2/10\n",
      "69/69 [==============================] - 72s 1s/step - loss: 0.3410 - accuracy: 0.8413 - mean_recall: 0.7496 - mean_precision: 0.7904 - multi_class_confusion_matrix: 8791.2500 - val_loss: 0.3147 - val_accuracy: 0.8508 - val_mean_recall: 0.7707 - val_mean_precision: 0.8002 - val_multi_class_confusion_matrix: 977.0000\n",
      "Epoch 3/10\n",
      "69/69 [==============================] - 62s 900ms/step - loss: 0.3303 - accuracy: 0.8454 - mean_recall: 0.7565 - mean_precision: 0.7965 - multi_class_confusion_matrix: 8791.2500 - val_loss: 0.3118 - val_accuracy: 0.8513 - val_mean_recall: 0.7803 - val_mean_precision: 0.7980 - val_multi_class_confusion_matrix: 977.0000\n",
      "Epoch 4/10\n",
      "69/69 [==============================] - 60s 868ms/step - loss: 0.3244 - accuracy: 0.8501 - mean_recall: 0.7626 - mean_precision: 0.8042 - multi_class_confusion_matrix: 8791.2500 - val_loss: 0.3069 - val_accuracy: 0.8564 - val_mean_recall: 0.7825 - val_mean_precision: 0.8072 - val_multi_class_confusion_matrix: 977.0000\n",
      "Epoch 5/10\n",
      "69/69 [==============================] - 63s 918ms/step - loss: 0.3183 - accuracy: 0.8523 - mean_recall: 0.7662 - mean_precision: 0.8072 - multi_class_confusion_matrix: 8791.2500 - val_loss: 0.3056 - val_accuracy: 0.8554 - val_mean_recall: 0.7822 - val_mean_precision: 0.8053 - val_multi_class_confusion_matrix: 977.0000\n",
      "Epoch 6/10\n",
      "69/69 [==============================] - 65s 947ms/step - loss: 0.3159 - accuracy: 0.8525 - mean_recall: 0.7666 - mean_precision: 0.8074 - multi_class_confusion_matrix: 8791.2500 - val_loss: 0.3037 - val_accuracy: 0.8559 - val_mean_recall: 0.7736 - val_mean_precision: 0.8099 - val_multi_class_confusion_matrix: 977.0000\n",
      "Epoch 7/10\n",
      "69/69 [==============================] - 63s 909ms/step - loss: 0.3136 - accuracy: 0.8541 - mean_recall: 0.7697 - mean_precision: 0.8097 - multi_class_confusion_matrix: 8791.2500 - val_loss: 0.3017 - val_accuracy: 0.8567 - val_mean_recall: 0.7790 - val_mean_precision: 0.8092 - val_multi_class_confusion_matrix: 977.0000\n",
      "Epoch 8/10\n",
      "69/69 [==============================] - 64s 920ms/step - loss: 0.3132 - accuracy: 0.8542 - mean_recall: 0.7679 - mean_precision: 0.8107 - multi_class_confusion_matrix: 8791.2500 - val_loss: 0.3021 - val_accuracy: 0.8580 - val_mean_recall: 0.7895 - val_mean_precision: 0.8077 - val_multi_class_confusion_matrix: 977.0000\n",
      "Epoch 9/10\n",
      "69/69 [==============================] - 60s 863ms/step - loss: 0.3117 - accuracy: 0.8544 - mean_recall: 0.7702 - mean_precision: 0.8101 - multi_class_confusion_matrix: 8791.2500 - val_loss: 0.3000 - val_accuracy: 0.8570 - val_mean_recall: 0.7788 - val_mean_precision: 0.8098 - val_multi_class_confusion_matrix: 977.0000\n",
      "Epoch 10/10\n",
      "69/69 [==============================] - 63s 912ms/step - loss: 0.3084 - accuracy: 0.8558 - mean_recall: 0.7717 - mean_precision: 0.8125 - multi_class_confusion_matrix: 8791.2500 - val_loss: 0.2989 - val_accuracy: 0.8577 - val_mean_recall: 0.7830 - val_mean_precision: 0.8097 - val_multi_class_confusion_matrix: 977.0000\n"
     ]
    },
    {
     "data": {
      "text/plain": [
       "<src.models.TabularTransformer at 0x1e55d0ae490>"
      ]
     },
     "execution_count": 12,
     "metadata": {},
     "output_type": "execute_result"
    }
   ],
   "source": [
    "tt = TabularTransformer()\n",
    "tt.fit(X_train, y_train, batch_size=512, epochs=10, eval_size=0.1, learning_rate=1e-4)"
   ]
  },
  {
   "cell_type": "code",
   "execution_count": 13,
   "metadata": {},
   "outputs": [
    {
     "name": "stdout",
     "output_type": "stream",
     "text": [
      "1/1 [==============================] - 8s 8s/step\n"
     ]
    }
   ],
   "source": [
    "y_pred_tt = tt.predict(X_test)"
   ]
  },
  {
   "cell_type": "code",
   "execution_count": 25,
   "metadata": {},
   "outputs": [
    {
     "name": "stdout",
     "output_type": "stream",
     "text": [
      "Gradient Boosting Tree Metrics\n",
      "Accuracy:  0.8632408639574163\n",
      "Precision:  0.8791921206832066\n",
      "Recall:  0.9505324167677585\n",
      "\n",
      "Tabular Transformer Metrics\n",
      "Accuracy:  0.8523902139420616\n",
      "Precision:  0.8892796665364074\n",
      "Recall:  0.9202048793637957\n",
      "\n"
     ]
    }
   ],
   "source": [
    "from sklearn.metrics import accuracy_score, recall_score, precision_score\n",
    "def print_metrics(y_true, y_pred):\n",
    "    print(\"Accuracy: \",accuracy_score(y_true, y_pred))\n",
    "    print(\"Precision: \",precision_score(y_true, y_pred))\n",
    "    print(\"Recall: \",recall_score(y_true, y_pred))\n",
    "    print()\n",
    "\n",
    "\n",
    "print(\"Gradient Boosting Tree Metrics\")\n",
    "# print(classification_report(y_test,y_pred_gbc))\n",
    "print_metrics(y_test,y_pred_gbc)\n",
    "\n",
    "print(\"Tabular Transformer Metrics\")\n",
    "# print(classification_report(y_test,np.argmax(y_pred_tt, axis=1)))\n",
    "print_metrics(y_test,np.argmax(y_pred_tt, axis=1))\n",
    "\n"
   ]
  }
 ],
 "metadata": {
  "interpreter": {
   "hash": "2c486376ded516fafe091783a6c70b600e9bfb5824ad41de96f5bf0836d62937"
  },
  "kernelspec": {
   "display_name": "Python 3.8.13 ('python38')",
   "language": "python",
   "name": "python3"
  },
  "language_info": {
   "codemirror_mode": {
    "name": "ipython",
    "version": 3
   },
   "file_extension": ".py",
   "mimetype": "text/x-python",
   "name": "python",
   "nbconvert_exporter": "python",
   "pygments_lexer": "ipython3",
   "version": "3.8.13"
  },
  "orig_nbformat": 4
 },
 "nbformat": 4,
 "nbformat_minor": 2
}
