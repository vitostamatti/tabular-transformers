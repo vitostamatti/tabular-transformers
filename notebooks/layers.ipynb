{
 "cells": [
  {
   "cell_type": "code",
   "execution_count": 3,
   "metadata": {},
   "outputs": [],
   "source": [
    "import tensorflow as tf\n",
    "from tensorflow import keras\n",
    "import numpy as np\n",
    "import sys\n",
    "import pandas as pd\n",
    "from sklearn.preprocessing import LabelEncoder\n",
    "from keras.utils import np_utils\n",
    "from sklearn.model_selection import train_test_split\n",
    "\n",
    "sys.path.append('../')"
   ]
  },
  {
   "cell_type": "code",
   "execution_count": 6,
   "metadata": {},
   "outputs": [],
   "source": [
    "from src.layers import (\n",
    "    NumericalFeatureEmbedding,\n",
    "    CategoricalFeatureEmbedding, \n",
    "    FeatureEmbedding, \n",
    "    TransformerEncoder, \n",
    "    MLP\n",
    ")"
   ]
  },
  {
   "cell_type": "markdown",
   "metadata": {},
   "source": [
    "### Numerical Features Embeddings"
   ]
  },
  {
   "cell_type": "code",
   "execution_count": 29,
   "metadata": {},
   "outputs": [
    {
     "name": "stdout",
     "output_type": "stream",
     "text": [
      "weights shape:  (1, 2, 6)\n",
      "x shape:  (100, 2, 1)\n",
      "output shape:  (100, 2, 6)\n"
     ]
    }
   ],
   "source": [
    "\n",
    "num_features = 2\n",
    "dim_token = 6\n",
    "\n",
    "x_num = np.random.random(size=(100, 2))\n",
    "\n",
    "d_sqrt_inv = 1 / np.sqrt(dim_token)\n",
    "\n",
    "# Learnable weights\n",
    "w = np.random.uniform(low=-d_sqrt_inv, high=d_sqrt_inv, size=(num_features,dim_token))\n",
    "b = np.random.uniform(low=-d_sqrt_inv, high=d_sqrt_inv, size=(num_features,dim_token))\n",
    "\n",
    "output = w[np.newaxis] *x_num[...,np.newaxis] + b\n",
    "\n",
    "print(\"weights shape: \",w[np.newaxis].shape)\n",
    "print(\"x shape: \",x_num[...,np.newaxis].shape)\n",
    "print(\"output shape: \",(w[np.newaxis] *x_num[...,np.newaxis]).shape)"
   ]
  },
  {
   "cell_type": "code",
   "execution_count": 36,
   "metadata": {},
   "outputs": [
    {
     "data": {
      "text/plain": [
       "TensorShape([1000, 10, 32])"
      ]
     },
     "execution_count": 36,
     "metadata": {},
     "output_type": "execute_result"
    }
   ],
   "source": [
    "from sklearn.datasets import make_classification\n",
    "\n",
    "num_features = 10\n",
    "dim_token = 32\n",
    "\n",
    "X, y = make_classification(\n",
    "    n_samples=1000, n_features=num_features, \n",
    "    n_informative=num_features, n_redundant=0, \n",
    "    n_repeated=0, n_classes=2, \n",
    "    n_clusters_per_class=2,\n",
    "    shuffle=True, random_state=123\n",
    ")\n",
    "\n",
    "ne = NumericalFeatureEmbedding(num_features=num_features,dim_token=dim_token)\n",
    "\n",
    "ne(X).shape\n",
    "\n",
    "X_train, X_val, y_train, y_val = train_test_split(X, y, test_size=0.2)\n"
   ]
  },
  {
   "cell_type": "code",
   "execution_count": 72,
   "metadata": {},
   "outputs": [
    {
     "name": "stdout",
     "output_type": "stream",
     "text": [
      "Epoch 1/20\n",
      "25/25 [==============================] - 1s 9ms/step - loss: 0.8012 - accuracy: 0.5375 - val_loss: 0.6844 - val_accuracy: 0.6050\n",
      "Epoch 2/20\n",
      "25/25 [==============================] - 0s 4ms/step - loss: 0.5915 - accuracy: 0.6888 - val_loss: 0.6031 - val_accuracy: 0.6800\n",
      "Epoch 3/20\n",
      "25/25 [==============================] - 0s 4ms/step - loss: 0.5059 - accuracy: 0.7775 - val_loss: 0.5578 - val_accuracy: 0.7200\n",
      "Epoch 4/20\n",
      "25/25 [==============================] - 0s 4ms/step - loss: 0.4638 - accuracy: 0.7962 - val_loss: 0.5272 - val_accuracy: 0.7400\n",
      "Epoch 5/20\n",
      "25/25 [==============================] - 0s 4ms/step - loss: 0.4216 - accuracy: 0.8263 - val_loss: 0.4973 - val_accuracy: 0.7600\n",
      "Epoch 6/20\n",
      "25/25 [==============================] - 0s 4ms/step - loss: 0.3818 - accuracy: 0.8462 - val_loss: 0.4690 - val_accuracy: 0.7850\n",
      "Epoch 7/20\n",
      "25/25 [==============================] - 0s 4ms/step - loss: 0.3617 - accuracy: 0.8537 - val_loss: 0.4478 - val_accuracy: 0.8000\n",
      "Epoch 8/20\n",
      "25/25 [==============================] - 0s 4ms/step - loss: 0.3486 - accuracy: 0.8487 - val_loss: 0.4337 - val_accuracy: 0.8200\n",
      "Epoch 9/20\n",
      "25/25 [==============================] - 0s 5ms/step - loss: 0.3476 - accuracy: 0.8625 - val_loss: 0.4173 - val_accuracy: 0.8350\n",
      "Epoch 10/20\n",
      "25/25 [==============================] - 0s 5ms/step - loss: 0.3189 - accuracy: 0.8763 - val_loss: 0.3970 - val_accuracy: 0.8400\n",
      "Epoch 11/20\n",
      "25/25 [==============================] - 0s 4ms/step - loss: 0.3141 - accuracy: 0.8788 - val_loss: 0.3901 - val_accuracy: 0.8450\n",
      "Epoch 12/20\n",
      "25/25 [==============================] - 0s 5ms/step - loss: 0.2994 - accuracy: 0.8850 - val_loss: 0.3778 - val_accuracy: 0.8400\n",
      "Epoch 13/20\n",
      "25/25 [==============================] - 0s 4ms/step - loss: 0.3019 - accuracy: 0.8775 - val_loss: 0.3713 - val_accuracy: 0.8400\n",
      "Epoch 14/20\n",
      "25/25 [==============================] - 0s 4ms/step - loss: 0.2758 - accuracy: 0.8888 - val_loss: 0.3579 - val_accuracy: 0.8350\n",
      "Epoch 15/20\n",
      "25/25 [==============================] - 0s 6ms/step - loss: 0.2767 - accuracy: 0.8913 - val_loss: 0.3524 - val_accuracy: 0.8450\n",
      "Epoch 16/20\n",
      "25/25 [==============================] - 0s 3ms/step - loss: 0.2628 - accuracy: 0.9000 - val_loss: 0.3483 - val_accuracy: 0.8450\n",
      "Epoch 17/20\n",
      "25/25 [==============================] - 0s 3ms/step - loss: 0.2544 - accuracy: 0.8988 - val_loss: 0.3403 - val_accuracy: 0.8550\n",
      "Epoch 18/20\n",
      "25/25 [==============================] - 0s 3ms/step - loss: 0.2627 - accuracy: 0.8950 - val_loss: 0.3322 - val_accuracy: 0.8650\n",
      "Epoch 19/20\n",
      "25/25 [==============================] - 0s 4ms/step - loss: 0.2495 - accuracy: 0.9062 - val_loss: 0.3354 - val_accuracy: 0.8500\n",
      "Epoch 20/20\n",
      "25/25 [==============================] - 0s 5ms/step - loss: 0.2422 - accuracy: 0.9038 - val_loss: 0.3220 - val_accuracy: 0.8550\n",
      "7/7 [==============================] - 0s 3ms/step - loss: 0.3220 - accuracy: 0.8550\n"
     ]
    }
   ],
   "source": [
    "# Basic MLP classification without NumericalFeatureEmbedding \n",
    "inputs = keras.layers.Input(shape=X.shape[1])\n",
    "x = keras.layers.Dense(32, activation='relu')(inputs)\n",
    "x = keras.layers.Dropout(0.1)(x)\n",
    "x = keras.layers.Dense(16, activation='relu')(x)\n",
    "outputs = keras.layers.Dense(1, activation='sigmoid')(x)\n",
    "\n",
    "base_model = keras.Model(inputs=inputs, outputs=outputs)\n",
    "\n",
    "base_model.compile(loss='binary_crossentropy',metrics=['accuracy'], optimizer='adam')\n",
    "\n",
    "base_history = base_model.fit(x=X_train, y=y_train, validation_data=(X_val, y_val), epochs=20)\n",
    "\n",
    "base_result = base_model.evaluate(X_val, y_val)"
   ]
  },
  {
   "cell_type": "code",
   "execution_count": 91,
   "metadata": {},
   "outputs": [
    {
     "name": "stdout",
     "output_type": "stream",
     "text": [
      "Epoch 1/20\n",
      "25/25 [==============================] - 1s 15ms/step - loss: 0.5888 - accuracy: 0.7350 - val_loss: 0.5317 - val_accuracy: 0.7200\n",
      "Epoch 2/20\n",
      "25/25 [==============================] - 0s 4ms/step - loss: 0.4259 - accuracy: 0.8238 - val_loss: 0.4847 - val_accuracy: 0.7350\n",
      "Epoch 3/20\n",
      "25/25 [==============================] - 0s 4ms/step - loss: 0.3668 - accuracy: 0.8475 - val_loss: 0.4287 - val_accuracy: 0.7850\n",
      "Epoch 4/20\n",
      "25/25 [==============================] - 0s 5ms/step - loss: 0.3375 - accuracy: 0.8487 - val_loss: 0.3961 - val_accuracy: 0.8100\n",
      "Epoch 5/20\n",
      "25/25 [==============================] - 0s 5ms/step - loss: 0.3076 - accuracy: 0.8737 - val_loss: 0.3583 - val_accuracy: 0.8300\n",
      "Epoch 6/20\n",
      "25/25 [==============================] - 0s 5ms/step - loss: 0.2850 - accuracy: 0.8750 - val_loss: 0.3285 - val_accuracy: 0.8650\n",
      "Epoch 7/20\n",
      "25/25 [==============================] - 0s 5ms/step - loss: 0.2681 - accuracy: 0.8963 - val_loss: 0.3025 - val_accuracy: 0.8850\n",
      "Epoch 8/20\n",
      "25/25 [==============================] - 0s 7ms/step - loss: 0.2352 - accuracy: 0.9062 - val_loss: 0.2867 - val_accuracy: 0.8950\n",
      "Epoch 9/20\n",
      "25/25 [==============================] - 0s 5ms/step - loss: 0.2300 - accuracy: 0.9100 - val_loss: 0.2692 - val_accuracy: 0.8900\n",
      "Epoch 10/20\n",
      "25/25 [==============================] - 0s 5ms/step - loss: 0.2106 - accuracy: 0.9300 - val_loss: 0.2807 - val_accuracy: 0.8900\n",
      "Epoch 11/20\n",
      "25/25 [==============================] - 0s 6ms/step - loss: 0.2082 - accuracy: 0.9200 - val_loss: 0.2713 - val_accuracy: 0.8700\n",
      "Epoch 12/20\n",
      "25/25 [==============================] - 0s 4ms/step - loss: 0.1999 - accuracy: 0.9225 - val_loss: 0.2558 - val_accuracy: 0.8950\n",
      "Epoch 13/20\n",
      "25/25 [==============================] - 0s 4ms/step - loss: 0.1866 - accuracy: 0.9312 - val_loss: 0.2481 - val_accuracy: 0.8950\n",
      "Epoch 14/20\n",
      "25/25 [==============================] - 0s 4ms/step - loss: 0.1792 - accuracy: 0.9350 - val_loss: 0.2619 - val_accuracy: 0.8950\n",
      "Epoch 15/20\n",
      "25/25 [==============================] - 0s 4ms/step - loss: 0.1786 - accuracy: 0.9362 - val_loss: 0.2376 - val_accuracy: 0.8950\n",
      "Epoch 16/20\n",
      "25/25 [==============================] - 0s 5ms/step - loss: 0.1750 - accuracy: 0.9350 - val_loss: 0.2491 - val_accuracy: 0.9000\n",
      "Epoch 17/20\n",
      "25/25 [==============================] - 0s 5ms/step - loss: 0.1717 - accuracy: 0.9275 - val_loss: 0.2558 - val_accuracy: 0.8900\n",
      "Epoch 18/20\n",
      "25/25 [==============================] - 0s 4ms/step - loss: 0.1581 - accuracy: 0.9425 - val_loss: 0.2379 - val_accuracy: 0.9150\n",
      "Epoch 19/20\n",
      "25/25 [==============================] - 0s 3ms/step - loss: 0.1532 - accuracy: 0.9375 - val_loss: 0.2418 - val_accuracy: 0.9000\n",
      "Epoch 20/20\n",
      "25/25 [==============================] - 0s 7ms/step - loss: 0.1472 - accuracy: 0.9450 - val_loss: 0.2586 - val_accuracy: 0.9000\n",
      "7/7 [==============================] - 0s 2ms/step - loss: 0.2586 - accuracy: 0.9000\n"
     ]
    }
   ],
   "source": [
    "# Basic MLP classification with NumericalFeatureEmbedding \n",
    "inputs = keras.layers.Input(shape=X.shape[1])\n",
    "x = NumericalFeatureEmbedding(num_features=num_features,dim_token=dim_token)(inputs)\n",
    "# x = keras.layers.Lambda(lambda x: tf.reduce_sum(x, axis=-2))(x)\n",
    "x = keras.layers.Flatten(name=\"flatten_embeddings\")(x)\n",
    "x = keras.layers.Dense(32, activation='relu')(x)\n",
    "x = keras.layers.Dropout(0.1)(x)\n",
    "x = keras.layers.Dense(16, activation='relu')(x)\n",
    "outputs = keras.layers.Dense(1, activation='sigmoid')(x)\n",
    "\n",
    "linear_model = keras.Model(inputs=inputs, outputs=outputs)\n",
    "\n",
    "linear_model.compile(loss='binary_crossentropy',metrics=['accuracy'], optimizer='adam')\n",
    "\n",
    "linear_history=linear_model.fit(x=X_train, y=y_train, validation_data=(X_val, y_val), epochs=20)\n",
    "\n",
    "linear_result=linear_model.evaluate(X_val, y_val)"
   ]
  },
  {
   "cell_type": "code",
   "execution_count": 92,
   "metadata": {},
   "outputs": [
    {
     "name": "stdout",
     "output_type": "stream",
     "text": [
      "Epoch 1/20\n",
      "25/25 [==============================] - 2s 21ms/step - loss: 0.5691 - accuracy: 0.7113 - val_loss: 0.5292 - val_accuracy: 0.7300\n",
      "Epoch 2/20\n",
      "25/25 [==============================] - 0s 8ms/step - loss: 0.4223 - accuracy: 0.7987 - val_loss: 0.4516 - val_accuracy: 0.7800\n",
      "Epoch 3/20\n",
      "25/25 [==============================] - 0s 8ms/step - loss: 0.3618 - accuracy: 0.8400 - val_loss: 0.3863 - val_accuracy: 0.8400\n",
      "Epoch 4/20\n",
      "25/25 [==============================] - 0s 9ms/step - loss: 0.3043 - accuracy: 0.8737 - val_loss: 0.3732 - val_accuracy: 0.8300\n",
      "Epoch 5/20\n",
      "25/25 [==============================] - 0s 8ms/step - loss: 0.2819 - accuracy: 0.8875 - val_loss: 0.3307 - val_accuracy: 0.8500\n",
      "Epoch 6/20\n",
      "25/25 [==============================] - 0s 6ms/step - loss: 0.2648 - accuracy: 0.8975 - val_loss: 0.2921 - val_accuracy: 0.8800\n",
      "Epoch 7/20\n",
      "25/25 [==============================] - 0s 7ms/step - loss: 0.2445 - accuracy: 0.9013 - val_loss: 0.2908 - val_accuracy: 0.8750\n",
      "Epoch 8/20\n",
      "25/25 [==============================] - 0s 8ms/step - loss: 0.2118 - accuracy: 0.9237 - val_loss: 0.2669 - val_accuracy: 0.9050\n",
      "Epoch 9/20\n",
      "25/25 [==============================] - 0s 11ms/step - loss: 0.1989 - accuracy: 0.9250 - val_loss: 0.2911 - val_accuracy: 0.8800\n",
      "Epoch 10/20\n",
      "25/25 [==============================] - 0s 8ms/step - loss: 0.1985 - accuracy: 0.9250 - val_loss: 0.2580 - val_accuracy: 0.8700\n",
      "Epoch 11/20\n",
      "25/25 [==============================] - 0s 8ms/step - loss: 0.1845 - accuracy: 0.9262 - val_loss: 0.2469 - val_accuracy: 0.9000\n",
      "Epoch 12/20\n",
      "25/25 [==============================] - 0s 9ms/step - loss: 0.1615 - accuracy: 0.9500 - val_loss: 0.2471 - val_accuracy: 0.9050\n",
      "Epoch 13/20\n",
      "25/25 [==============================] - 0s 10ms/step - loss: 0.1588 - accuracy: 0.9388 - val_loss: 0.2626 - val_accuracy: 0.8950\n",
      "Epoch 14/20\n",
      "25/25 [==============================] - 0s 9ms/step - loss: 0.1503 - accuracy: 0.9400 - val_loss: 0.2473 - val_accuracy: 0.9200\n",
      "Epoch 15/20\n",
      "25/25 [==============================] - 0s 9ms/step - loss: 0.1356 - accuracy: 0.9463 - val_loss: 0.3679 - val_accuracy: 0.8400\n",
      "Epoch 16/20\n",
      "25/25 [==============================] - 0s 12ms/step - loss: 0.1501 - accuracy: 0.9388 - val_loss: 0.2645 - val_accuracy: 0.8900\n",
      "Epoch 17/20\n",
      "25/25 [==============================] - 0s 8ms/step - loss: 0.1313 - accuracy: 0.9500 - val_loss: 0.2422 - val_accuracy: 0.9050\n",
      "Epoch 18/20\n",
      "25/25 [==============================] - 0s 9ms/step - loss: 0.1212 - accuracy: 0.9488 - val_loss: 0.2368 - val_accuracy: 0.9100\n",
      "Epoch 19/20\n",
      "25/25 [==============================] - 0s 9ms/step - loss: 0.1148 - accuracy: 0.9650 - val_loss: 0.2184 - val_accuracy: 0.9200\n",
      "Epoch 20/20\n",
      "25/25 [==============================] - 0s 9ms/step - loss: 0.1157 - accuracy: 0.9500 - val_loss: 0.2434 - val_accuracy: 0.9200\n",
      "7/7 [==============================] - 0s 3ms/step - loss: 0.2434 - accuracy: 0.9200\n"
     ]
    }
   ],
   "source": [
    "inputs = keras.layers.Input(shape=X.shape[1])\n",
    "x = NumericalFeatureEmbedding(num_features=num_features,dim_token=dim_token)(inputs)\n",
    "x = TransformerEncoder(embed_dim=dim_token,num_heads=2,ff_dim=8)(x)\n",
    "x = keras.layers.Flatten(name=\"flatten_embeddings\")(x)\n",
    "x = keras.layers.Dense(32, activation='relu')(x)\n",
    "x = keras.layers.Dropout(0.1)(x)\n",
    "x = keras.layers.Dense(16, activation='relu')(x)\n",
    "outputs = keras.layers.Dense(1, activation='sigmoid')(x)\n",
    "\n",
    "transformer_model = keras.Model(inputs=inputs, outputs=outputs)\n",
    "\n",
    "transformer_model.compile(loss='binary_crossentropy',metrics=['accuracy'], optimizer='adam')\n",
    "\n",
    "transformer_history=transformer_model.fit(x=X_train, y=y_train, validation_data=(X_val, y_val), epochs=20)\n",
    "\n",
    "transformer_result=transformer_model.evaluate(X_val, y_val)"
   ]
  },
  {
   "cell_type": "code",
   "execution_count": 97,
   "metadata": {},
   "outputs": [
    {
     "name": "stdout",
     "output_type": "stream",
     "text": [
      "Base results: epochs=20 - loss=0.32 - acc=0.86\n",
      "Linear Model results: epochs=20 - loss=0.26 - acc=0.90\n",
      "Transformer Model results: epochs=20 - loss=0.24 - acc=0.92\n"
     ]
    }
   ],
   "source": [
    "print(f\"Base results: epochs={len(base_history.history['loss'])} - loss={base_result[0]:.2f} - acc={base_result[1]:.2f}\")\n",
    "print(f\"Linear Model results: epochs={len(linear_history.history['loss'])} - loss={linear_result[0]:.2f} - acc={linear_result[1]:.2f}\")\n",
    "print(f\"Transformer Model results: epochs={len(transformer_history.history['loss'])} - loss={transformer_result[0]:.2f} - acc={transformer_result[1]:.2f}\")\n"
   ]
  },
  {
   "cell_type": "markdown",
   "metadata": {},
   "source": [
    "### Categorical Features Embeddings"
   ]
  },
  {
   "cell_type": "code",
   "execution_count": 45,
   "metadata": {},
   "outputs": [
    {
     "name": "stdout",
     "output_type": "stream",
     "text": [
      "input shape:  (100, 2)\n",
      "output shape:  (100, 5, 6)\n"
     ]
    }
   ],
   "source": [
    "cardinalities = [5, 10, 20, 10,5]\n",
    "num_features = len(cardinalities)\n",
    "dim_token = 6\n",
    "\n",
    "x_cat = np.concatenate([np.random.randint(low=0,high=c,size=(100,1)) for c in cardinalities], axis=1)\n",
    "\n",
    "offsets = np.cumsum([0] + cardinalities[:-1], axis=0)\n",
    "\n",
    "total_tokens = sum(cardinalities)\n",
    "\n",
    "# # Learnable weights\n",
    "d_sqrt_inv = 1 / np.sqrt(dim_token)\n",
    "\n",
    "emb = keras.layers.Embedding(input_dim=total_tokens, output_dim=dim_token)\n",
    "b = np.random.uniform(low=-d_sqrt_inv, high=d_sqrt_inv, size=(num_features,dim_token))\n",
    "output = emb(x_cat + offsets) + b\n",
    "\n",
    "print(\"input shape: \",x_num.shape)\n",
    "print(\"output shape: \",output.shape)"
   ]
  },
  {
   "cell_type": "code",
   "execution_count": 139,
   "metadata": {},
   "outputs": [
    {
     "data": {
      "text/plain": [
       "TensorShape([1000, 8, 32])"
      ]
     },
     "execution_count": 139,
     "metadata": {},
     "output_type": "execute_result"
    }
   ],
   "source": [
    "\n",
    "cardinalities = [3, 5, 10, 15, 20, 25, 30, 35]\n",
    "num_features = len(cardinalities)\n",
    "dim_token = 32\n",
    "\n",
    "X, y = make_classification(\n",
    "    n_samples=1000, n_features=num_features, \n",
    "    n_informative=num_features, n_redundant=0, \n",
    "    n_repeated=0, n_classes=2, \n",
    "    n_clusters_per_class=2,\n",
    "    shuffle=True, random_state=123\n",
    ")\n",
    "\n",
    "# convert continuous to cat with quantils\n",
    "X_cat = np.concatenate([\n",
    "    np.digitize(X[:,i], bins=np.quantile(X[:,i], np.linspace(0,1,c+1))[1:-1])[...,np.newaxis]\n",
    "    for i, c in enumerate(cardinalities)\n",
    "], axis=1)\n",
    "\n",
    "X_train, X_val, y_train, y_val = train_test_split(X_cat, y, test_size=0.2)\n",
    "\n",
    "ne = CategoricalFeatureEmbedding(cardinalities=cardinalities,dim_token=dim_token)\n",
    "\n",
    "ne(X_cat).shape\n"
   ]
  },
  {
   "cell_type": "code",
   "execution_count": 142,
   "metadata": {},
   "outputs": [
    {
     "name": "stdout",
     "output_type": "stream",
     "text": [
      "Epoch 1/20\n",
      "25/25 [==============================] - 1s 15ms/step - loss: 0.6779 - accuracy: 0.6125 - val_loss: 0.6516 - val_accuracy: 0.6900\n",
      "Epoch 2/20\n",
      "25/25 [==============================] - 0s 5ms/step - loss: 0.6283 - accuracy: 0.7175 - val_loss: 0.5839 - val_accuracy: 0.7500\n",
      "Epoch 3/20\n",
      "25/25 [==============================] - 0s 5ms/step - loss: 0.5562 - accuracy: 0.7613 - val_loss: 0.4931 - val_accuracy: 0.8050\n",
      "Epoch 4/20\n",
      "25/25 [==============================] - 0s 4ms/step - loss: 0.4813 - accuracy: 0.7812 - val_loss: 0.4172 - val_accuracy: 0.8300\n",
      "Epoch 5/20\n",
      "25/25 [==============================] - 0s 4ms/step - loss: 0.4143 - accuracy: 0.8150 - val_loss: 0.3820 - val_accuracy: 0.8450\n",
      "Epoch 6/20\n",
      "25/25 [==============================] - 0s 6ms/step - loss: 0.3629 - accuracy: 0.8462 - val_loss: 0.3600 - val_accuracy: 0.8650\n",
      "Epoch 7/20\n",
      "25/25 [==============================] - 0s 5ms/step - loss: 0.3412 - accuracy: 0.8537 - val_loss: 0.3488 - val_accuracy: 0.8550\n",
      "Epoch 8/20\n",
      "25/25 [==============================] - 0s 4ms/step - loss: 0.3142 - accuracy: 0.8662 - val_loss: 0.3637 - val_accuracy: 0.8250\n",
      "Epoch 9/20\n",
      "25/25 [==============================] - 0s 5ms/step - loss: 0.2981 - accuracy: 0.8775 - val_loss: 0.3489 - val_accuracy: 0.8400\n",
      "Epoch 10/20\n",
      "25/25 [==============================] - 0s 8ms/step - loss: 0.2757 - accuracy: 0.8950 - val_loss: 0.3619 - val_accuracy: 0.8350\n",
      "Epoch 11/20\n",
      "25/25 [==============================] - 0s 6ms/step - loss: 0.2645 - accuracy: 0.8925 - val_loss: 0.3527 - val_accuracy: 0.8550\n",
      "Epoch 12/20\n",
      "25/25 [==============================] - 0s 7ms/step - loss: 0.2560 - accuracy: 0.9025 - val_loss: 0.3621 - val_accuracy: 0.8500\n",
      "Epoch 13/20\n",
      "25/25 [==============================] - 0s 6ms/step - loss: 0.2383 - accuracy: 0.8963 - val_loss: 0.3633 - val_accuracy: 0.8400\n",
      "Epoch 14/20\n",
      "25/25 [==============================] - 0s 5ms/step - loss: 0.2369 - accuracy: 0.9125 - val_loss: 0.3661 - val_accuracy: 0.8550\n",
      "Epoch 15/20\n",
      "25/25 [==============================] - 0s 5ms/step - loss: 0.2174 - accuracy: 0.9175 - val_loss: 0.4134 - val_accuracy: 0.8350\n",
      "Epoch 16/20\n",
      "25/25 [==============================] - 0s 6ms/step - loss: 0.2084 - accuracy: 0.9150 - val_loss: 0.3732 - val_accuracy: 0.8600\n",
      "Epoch 17/20\n",
      "25/25 [==============================] - 0s 5ms/step - loss: 0.1842 - accuracy: 0.9287 - val_loss: 0.3846 - val_accuracy: 0.8550\n",
      "Epoch 18/20\n",
      "25/25 [==============================] - 0s 6ms/step - loss: 0.1772 - accuracy: 0.9400 - val_loss: 0.3771 - val_accuracy: 0.8550\n",
      "Epoch 19/20\n",
      "25/25 [==============================] - 0s 8ms/step - loss: 0.1642 - accuracy: 0.9362 - val_loss: 0.3948 - val_accuracy: 0.8600\n",
      "Epoch 20/20\n",
      "25/25 [==============================] - 0s 9ms/step - loss: 0.1392 - accuracy: 0.9488 - val_loss: 0.4053 - val_accuracy: 0.8550\n"
     ]
    }
   ],
   "source": [
    "# Basic MLP classification with CategoricalFeatureEmbedding \n",
    "\n",
    "inputs = keras.layers.Input(shape=X_train.shape[1], dtype='int64')\n",
    "\n",
    "x = CategoricalFeatureEmbedding(cardinalities=cardinalities, dim_token=dim_token)(inputs)\n",
    "# x = keras.layers.Lambda(lambda x: tf.reduce_sum(x, axis=-2))(x)\n",
    "x = keras.layers.Flatten(name=\"flatten_embeddings\")(x)\n",
    "x = keras.layers.Dense(32, activation='relu')(x)\n",
    "x = keras.layers.Dropout(0.1)(x)\n",
    "x = keras.layers.Dense(16, activation='relu')(x)\n",
    "outputs = keras.layers.Dense(1, activation='sigmoid')(x)\n",
    "\n",
    "linear_model = keras.Model(inputs=inputs, outputs=outputs)\n",
    "\n",
    "linear_model.compile(loss='binary_crossentropy',metrics=['accuracy'], optimizer='adam')\n",
    "\n",
    "base_history = linear_model.fit(x=X_train, y=y_train, validation_data=(X_val, y_val), epochs=20)\n",
    "\n",
    "base_result = linear_model.evaluate(X_val, y_val)"
   ]
  }
 ],
 "metadata": {
  "interpreter": {
   "hash": "2c486376ded516fafe091783a6c70b600e9bfb5824ad41de96f5bf0836d62937"
  },
  "kernelspec": {
   "display_name": "Python 3.8.13 ('python38')",
   "language": "python",
   "name": "python3"
  },
  "language_info": {
   "codemirror_mode": {
    "name": "ipython",
    "version": 3
   },
   "file_extension": ".py",
   "mimetype": "text/x-python",
   "name": "python",
   "nbconvert_exporter": "python",
   "pygments_lexer": "ipython3",
   "version": "3.8.13"
  },
  "orig_nbformat": 4
 },
 "nbformat": 4,
 "nbformat_minor": 2
}
