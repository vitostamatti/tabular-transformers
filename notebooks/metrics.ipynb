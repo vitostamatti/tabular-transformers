{
 "cells": [
  {
   "cell_type": "code",
   "execution_count": 105,
   "metadata": {},
   "outputs": [],
   "source": [
    "import tensorflow as tf\n",
    "from tensorflow import keras\n",
    "import numpy as np\n",
    "import sys\n",
    "\n",
    "sys.path.append('../')"
   ]
  },
  {
   "cell_type": "code",
   "execution_count": null,
   "metadata": {},
   "outputs": [],
   "source": [
    "from src.metrics import MultiClassMeanRecall,MultiClassMeanPrecision,MultiClassConfusionMatrix"
   ]
  },
  {
   "cell_type": "code",
   "execution_count": 101,
   "metadata": {},
   "outputs": [
    {
     "data": {
      "text/plain": [
       "<tf.Tensor: shape=(), dtype=float64, numpy=0.75>"
      ]
     },
     "execution_count": 101,
     "metadata": {},
     "output_type": "execute_result"
    }
   ],
   "source": [
    "\n",
    "\n",
    "m = MultiClassMeanRecall(num_classes=3)\n",
    "m.reset_state()\n",
    "\n",
    "y_true = tf.constant([[0,1,0], [1,0,0], [0,0,1], [1,0,0]])\n",
    "y_pred = tf.constant([[0.1, 0.8, 0.1], [0.7,0.2,0.1], [0.3,0.6,0.1], [0.1,0.8,0.1]])\n",
    "\n",
    "\n",
    "m.update_state(y_true, y_pred)\n",
    "m.result()\n",
    "\n",
    "y_true = np.array([[0,1,0], [1,0,0], [0,0,1], [1,0,0]])\n",
    "y_pred = np.array([[0.1,0.8,0.1], [0.7,0.2,0.1], [0.1,0.3,0.6], [0.8,0.1,0.1]])\n",
    "\n",
    "m.update_state(y_true, y_pred)\n",
    "m.result()\n",
    "\n",
    "\n"
   ]
  },
  {
   "cell_type": "code",
   "execution_count": 104,
   "metadata": {},
   "outputs": [
    {
     "data": {
      "text/plain": [
       "<tf.Tensor: shape=(), dtype=float64, numpy=1.0>"
      ]
     },
     "execution_count": 104,
     "metadata": {},
     "output_type": "execute_result"
    }
   ],
   "source": [
    "m = MultiClassMeanPrecision(num_classes=3)\n",
    "m.reset_state()\n",
    "\n",
    "y_true = tf.constant([[0,1,0], [1,0,0], [0,0,1], [1,0,0]])\n",
    "y_pred = tf.constant([[0.1, 0.8, 0.1], [0.7,0.2,0.1], [0.3,0.6,0.1], [0.1,0.8,0.1]])\n",
    "\n",
    "\n",
    "m.update_state(y_true, y_pred)\n",
    "m.result()\n",
    "\n",
    "\n",
    "y_true = np.array([[0,1,0], [1,0,0], [0,0,1], [1,0,0]])\n",
    "y_pred = np.array([[0.1,0.8,0.1], [0.7,0.2,0.1], [0.1,0.3,0.6], [0.8,0.1,0.1]])\n",
    "\n",
    "m.update_state(y_true, y_pred)\n",
    "m.result()\n"
   ]
  },
  {
   "cell_type": "code",
   "execution_count": 102,
   "metadata": {},
   "outputs": [
    {
     "data": {
      "text/plain": [
       "<tf.Tensor: shape=(3, 3), dtype=int32, numpy=\n",
       "array([[2, 2, 0],\n",
       "       [0, 2, 0],\n",
       "       [0, 2, 0]])>"
      ]
     },
     "execution_count": 102,
     "metadata": {},
     "output_type": "execute_result"
    }
   ],
   "source": [
    "\n",
    "m = MultiClassConfusionMatrix(num_classes=3)\n",
    "\n",
    "y_true = np.array([[0,1,0], [1,0,0], [0,0,1], [1,0,0]])\n",
    "y_pred = np.array([[0.1,0.8,0.1], [0.7,0.2,0.1], [0.3,0.6,0.1], [0.1,0.8,0.1]])\n",
    "m.update_state(y_true, y_pred)\n",
    "m.result()\n",
    "\n",
    "y_true = np.array([[0,1,0], [1,0,0], [0,0,1], [1,0,0]])\n",
    "y_pred = np.array([[0.1,0.8,0.1], [0.7,0.2,0.1], [0.3,0.6,0.1], [0.1,0.8,0.1]])\n",
    "\n",
    "m.update_state(y_true, y_pred)\n",
    "m.result()\n",
    "\n"
   ]
  }
 ],
 "metadata": {
  "interpreter": {
   "hash": "2c486376ded516fafe091783a6c70b600e9bfb5824ad41de96f5bf0836d62937"
  },
  "kernelspec": {
   "display_name": "Python 3.8.13 ('python38')",
   "language": "python",
   "name": "python3"
  },
  "language_info": {
   "codemirror_mode": {
    "name": "ipython",
    "version": 3
   },
   "file_extension": ".py",
   "mimetype": "text/x-python",
   "name": "python",
   "nbconvert_exporter": "python",
   "pygments_lexer": "ipython3",
   "version": "3.8.13"
  },
  "orig_nbformat": 4
 },
 "nbformat": 4,
 "nbformat_minor": 2
}
